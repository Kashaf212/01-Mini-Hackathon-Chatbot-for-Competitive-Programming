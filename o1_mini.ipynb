{
  "nbformat": 4,
  "nbformat_minor": 0,
  "metadata": {
    "colab": {
      "provenance": [],
      "authorship_tag": "ABX9TyNh3WyrOzKxYi4j+5xHo/lG"
    },
    "kernelspec": {
      "name": "python3",
      "display_name": "Python 3"
    },
    "language_info": {
      "name": "python"
    }
  },
  "cells": [
    {
      "cell_type": "code",
      "source": [
        "from pathlib import Path\n",
        "from langchain_community.document_loaders import CSVLoader\n",
        "from langchain.text_splitter import RecursiveCharacterTextSplitter\n",
        "from langchain_community.vectorstores import Chroma\n",
        "from langchain.embeddings import HuggingFaceEmbeddings\n",
        "from openai import OpenAI"
      ],
      "metadata": {
        "id": "ugECDGlcmqDz"
      },
      "execution_count": null,
      "outputs": []
    },
    {
      "cell_type": "code",
      "source": [
        "from google.colab import drive\n",
        "drive.mount('/content/drive')"
      ],
      "metadata": {
        "colab": {
          "base_uri": "https://localhost:8080/"
        },
        "id": "8r_s_pG9l3GU",
        "outputId": "dfa08039-77de-4b7f-91e6-bde1ee8c43fb"
      },
      "execution_count": null,
      "outputs": [
        {
          "output_type": "stream",
          "name": "stdout",
          "text": [
            "Mounted at /content/drive\n"
          ]
        }
      ]
    },
    {
      "cell_type": "code",
      "source": [
        "#Loading the documents\n",
        "\n",
        "doc_path = [\"/content/drive/MyDrive/01-mini hackathon/database.csv\", \"/content/drive/MyDrive/01-mini hackathon/Leetcode_Questions.csv\", \"/content/drive/MyDrive/01-mini hackathon/leetcode.csv\"]\n",
        "docs = []\n",
        "for doc_file in doc_path:\n",
        "  file_path = Path(doc_file)\n",
        "  print(doc_file)\n",
        "  try:\n",
        "    if doc_file.endswith (\".csv\"):\n",
        "      loader = CSVLoader(file_path)\n",
        "    elif doc_file.endswith(\".pdf\"):\n",
        "      loader = PyPDFLoader(file_path)\n",
        "    elif doc_file.endswith(\".docx\"):\n",
        "      loader = Docx2txtLoader(file_path)\n",
        "    elif doc_file.endswith(\".txt\") or doc_file.endswith(\".md\"):\n",
        "      loader = TextLoader(file_path)\n",
        "    else:\n",
        "      print(f\"DocumentType {doc_file.type} not supported.\")\n",
        "      continue\n",
        "    docs.extend(loader.load())\n",
        "  except Exception as e:\n",
        "    print(f\"Error loading document {doc_file}: {e}\")\n"
      ],
      "metadata": {
        "colab": {
          "base_uri": "https://localhost:8080/"
        },
        "id": "qt20ioj2mggj",
        "outputId": "6f9f4478-43ab-40b0-9e77-fe43be650a38"
      },
      "execution_count": null,
      "outputs": [
        {
          "output_type": "stream",
          "name": "stdout",
          "text": [
            "/content/drive/MyDrive/01-mini hackathon/database.csv\n",
            "/content/drive/MyDrive/01-mini hackathon/Leetcode_Questions.csv\n",
            "/content/drive/MyDrive/01-mini hackathon/leetcode.csv\n"
          ]
        }
      ]
    },
    {
      "cell_type": "code",
      "source": [
        "print(docs[:50])"
      ],
      "metadata": {
        "colab": {
          "base_uri": "https://localhost:8080/"
        },
        "id": "_WdewzRzmkKy",
        "outputId": "a66ad08f-0e0e-4990-bbfc-bf96aca667fa"
      },
      "execution_count": null,
      "outputs": [
        {
          "output_type": "stream",
          "name": "stdout",
          "text": [
            "[Document(metadata={'source': '/content/drive/MyDrive/01-mini hackathon/database.csv', 'row': 0}, page_content=': 0\\nQuestion: 1\\nAnswer: class Solution {\\n public:\\n  vector<int> twoSum(vector<int>& nums, int target) {\\n    unordered_map<int, int> numToIndex;\\n\\n    for (int i = 0; i < nums.size(); ++i) {\\n      if (const auto it = numToIndex.find(target - nums[i]);\\n          it != cend(numToIndex))\\n        return {it->second, i};\\n      numToIndex[nums[i]] = i;\\n    }\\n\\n    throw;\\n  }\\n};'), Document(metadata={'source': '/content/drive/MyDrive/01-mini hackathon/database.csv', 'row': 1}, page_content=': 1\\nQuestion: 2\\nAnswer: class Solution {\\n public:\\n  ListNode* addTwoNumbers(ListNode* l1, ListNode* l2) {\\n    ListNode dummy(0);\\n    ListNode* curr = &dummy;\\n    int carry = 0;\\n\\n    while (l1 || l2 || carry) {\\n      if (l1 != nullptr) {\\n        carry += l1->val;\\n        l1 = l1->next;\\n      }\\n      if (l2 != nullptr) {\\n        carry += l2->val;\\n        l2 = l2->next;\\n      }\\n      curr->next = new ListNode(carry % 10);\\n      carry /= 10;\\n      curr = curr->next;\\n    }\\n\\n    return dummy.next;\\n  }\\n};'), Document(metadata={'source': '/content/drive/MyDrive/01-mini hackathon/database.csv', 'row': 2}, page_content=': 2\\nQuestion: 3\\nAnswer: class Solution {\\n public:\\n  int lengthOfLongestSubstring(string s) {\\n    int ans = 0;\\n    vector<int> count(128);\\n\\n    for (int l = 0, r = 0; r < s.length(); ++r) {\\n      ++count[s[r]];\\n      while (count[s[r]] > 1)\\n        --count[s[l++]];\\n      ans = max(ans, r - l + 1);\\n    }\\n\\n    return ans;\\n  }\\n};'), Document(metadata={'source': '/content/drive/MyDrive/01-mini hackathon/database.csv', 'row': 3}, page_content=': 3\\nQuestion: 4\\nAnswer: class Solution {\\n public:\\n  double findMedianSortedArrays(vector<int>& nums1, vector<int>& nums2) {\\n    const int n1 = nums1.size();\\n    const int n2 = nums2.size();\\n    if (n1 > n2)\\n      return findMedianSortedArrays(nums2, nums1);\\n\\n    int l = 0;\\n    int r = n1;\\n\\n    while (l <= r) {\\n      const int partition1 = (l + r) / 2;\\n      const int partition2 = (n1 + n2 + 1) / 2 - partition1;\\n      const int maxLeft1 = partition1 == 0 ? INT_MIN : nums1[partition1 - 1];\\n      const int maxLeft2 = partition2 == 0 ? INT_MIN : nums2[partition2 - 1];\\n      const int minRight1 = partition1 == n1 ? INT_MAX : nums1[partition1];\\n      const int minRight2 = partition2 == n2 ? INT_MAX : nums2[partition2];\\n      if (maxLeft1 <= minRight2 && maxLeft2 <= minRight1)\\n        return (n1 + n2) % 2 == 0\\n                   ? (max(maxLeft1, maxLeft2) + min(minRight1, minRight2)) * 0.5\\n                   : max(maxLeft1, maxLeft2);\\n      else if (maxLeft1 > minRight2)\\n        r = partition1 - 1;\\n      else\\n        l = partition1 + 1;\\n    }\\n\\n    throw;\\n  }\\n};'), Document(metadata={'source': '/content/drive/MyDrive/01-mini hackathon/database.csv', 'row': 4}, page_content=': 4\\nQuestion: 5\\nAnswer: class Solution {\\n public:\\n  string longestPalindrome(string s) {\\n    if (s.empty())\\n      return \"\";\\n\\n    // [start, end] indices of the longest palindrome in s\\n    pair<int, int> indices{0, 0};\\n\\n    for (int i = 0; i < s.length(); ++i) {\\n      const auto [l1, r1] = extend(s, i, i);\\n      if (r1 - l1 > indices.second - indices.first)\\n        indices = {l1, r1};\\n      if (i + 1 < s.length() && s[i] == s[i + 1]) {\\n        const auto [l2, r2] = extend(s, i, i + 1);\\n        if (r2 - l2 > indices.second - indices.first)\\n          indices = {l2, r2};\\n      }\\n    }\\n\\n    return s.substr(indices.first, indices.second - indices.first + 1);\\n  }\\n\\n private:\\n  // Returns [start, end] indices of the longest palindrome extended from\\n  // s[i..j]\\n  pair<int, int> extend(const string& s, int i, int j) {\\n    for (; i >= 0 && j < s.length(); --i, ++j)\\n      if (s[i] != s[j])\\n        break;\\n    return {i + 1, j - 1};\\n  }\\n};'), Document(metadata={'source': '/content/drive/MyDrive/01-mini hackathon/database.csv', 'row': 5}, page_content=': 5\\nQuestion: 6\\nAnswer: class Solution {\\n public:\\n  string convert(string s, int numRows) {\\n    string ans;\\n    vector<vector<char>> rows(numRows);\\n    int k = 0;\\n    int direction = (numRows == 1) - 1;\\n\\n    for (const char c : s) {\\n      rows[k].push_back(c);\\n      if (k == 0 || k == numRows - 1)\\n        direction *= -1;\\n      k += direction;\\n    }\\n\\n    for (const vector<char>& row : rows)\\n      for (const char c : row)\\n        ans += c;\\n\\n    return ans;\\n  }\\n};'), Document(metadata={'source': '/content/drive/MyDrive/01-mini hackathon/database.csv', 'row': 6}, page_content=': 6\\nQuestion: 7\\nAnswer: class Solution {\\n public:\\n  int reverse(int x) {\\n    long ans = 0;\\n\\n    while (x) {\\n      ans = ans * 10 + x % 10;\\n      x /= 10;\\n    }\\n\\n    return (ans < INT_MIN || ans > INT_MAX) ? 0 : ans;\\n  }\\n};'), Document(metadata={'source': '/content/drive/MyDrive/01-mini hackathon/database.csv', 'row': 7}, page_content=\": 7\\nQuestion: 8\\nAnswer: class Solution {\\n public:\\n  int myAtoi(string s) {\\n    trim(s);\\n    if (s.empty())\\n      return 0;\\n\\n    const int sign = s[0] == '-' ? -1 : 1;\\n    if (s[0] == '+' || s[0] == '-')\\n      s = s.substr(1);\\n\\n    long num = 0;\\n\\n    for (const char c : s) {\\n      if (!isdigit(c))\\n        break;\\n      num = num * 10 + (c - '0');\\n      if (sign * num < INT_MIN)\\n        return INT_MIN;\\n      if (sign * num > INT_MAX)\\n        return INT_MAX;\\n    }\\n\\n    return sign * num;\\n  }\\n\\n private:\\n  void trim(string& s) {\\n    s.erase(0, s.find_first_not_of(' '));\\n    s.erase(s.find_last_not_of(' ') + 1);\\n  }\\n};\"), Document(metadata={'source': '/content/drive/MyDrive/01-mini hackathon/database.csv', 'row': 8}, page_content=': 8\\nQuestion: 9\\nAnswer: class Solution {\\n public:\\n  bool isPalindrome(int x) {\\n    if (x < 0)\\n      return false;\\n\\n    long reversed = 0;\\n    int y = x;\\n\\n    while (y) {\\n      reversed = reversed * 10 + y % 10;\\n      y /= 10;\\n    }\\n\\n    return reversed == x;\\n  }\\n};'), Document(metadata={'source': '/content/drive/MyDrive/01-mini hackathon/database.csv', 'row': 9}, page_content=\": 9\\nQuestion: 10\\nAnswer: class Solution {\\n public:\\n  bool isMatch(string s, string p) {\\n    const int m = s.length();\\n    const int n = p.length();\\n    // dp[i][j] := true if s[0..i) matches p[0..j)\\n    vector<vector<bool>> dp(m + 1, vector<bool>(n + 1));\\n    dp[0][0] = true;\\n\\n    auto isMatch = [&](int i, int j) -> bool {\\n      return j >= 0 && p[j] == '.' || s[i] == p[j];\\n    };\\n\\n    for (int j = 0; j < p.length(); ++j)\\n      if (p[j] == '*' && dp[0][j - 1])\\n        dp[0][j + 1] = true;\\n\\n    for (int i = 0; i < m; ++i)\\n      for (int j = 0; j < n; ++j)\\n        if (p[j] == '*') {\\n          const bool noRepeat = dp[i + 1][j - 1];  // Min index of '*' is 1\\n          const bool doRepeat = isMatch(i, j - 1) && dp[i][j + 1];\\n          dp[i + 1][j + 1] = noRepeat || doRepeat;\\n        } else if (isMatch(i, j)) {\\n          dp[i + 1][j + 1] = dp[i][j];\\n        }\\n\\n    return dp[m][n];\\n  }\\n};\"), Document(metadata={'source': '/content/drive/MyDrive/01-mini hackathon/database.csv', 'row': 10}, page_content=': 10\\nQuestion: 11\\nAnswer: class Solution {\\n public:\\n  int maxArea(vector<int>& height) {\\n    int ans = 0;\\n    int l = 0;\\n    int r = height.size() - 1;\\n\\n    while (l < r) {\\n      const int minHeight = min(height[l], height[r]);\\n      ans = max(ans, minHeight * (r - l));\\n      if (height[l] < height[r])\\n        ++l;\\n      else\\n        --r;\\n    }\\n\\n    return ans;\\n  }\\n};'), Document(metadata={'source': '/content/drive/MyDrive/01-mini hackathon/database.csv', 'row': 11}, page_content=': 11\\nQuestion: 12\\nAnswer: class Solution {\\n public:\\n  string intToRoman(int num) {\\n    const vector<pair<int, string>> valueSymbols{\\n        {1000, \"M\"}, {900, \"CM\"}, {500, \"D\"}, {400, \"CD\"}, {100, \"C\"},\\n        {90, \"XC\"},  {50, \"L\"},   {40, \"XL\"}, {10, \"X\"},   {9, \"IX\"},\\n        {5, \"V\"},    {4, \"IV\"},   {1, \"I\"}};\\n    string ans;\\n\\n    for (const auto& [value, symbol] : valueSymbols) {\\n      if (num == 0)\\n        break;\\n      while (num >= value) {\\n        num -= value;\\n        ans += symbol;\\n      }\\n    }\\n\\n    return ans;\\n  }\\n};'), Document(metadata={'source': '/content/drive/MyDrive/01-mini hackathon/database.csv', 'row': 12}, page_content=\": 12\\nQuestion: 13\\nAnswer: class Solution {\\n public:\\n  int romanToInt(string s) {\\n    int ans = 0;\\n    vector<int> roman(128);\\n\\n    roman['I'] = 1;\\n    roman['V'] = 5;\\n    roman['X'] = 10;\\n    roman['L'] = 50;\\n    roman['C'] = 100;\\n    roman['D'] = 500;\\n    roman['M'] = 1000;\\n\\n    for (int i = 0; i + 1 < s.length(); ++i)\\n      if (roman[s[i]] < roman[s[i + 1]])\\n        ans -= roman[s[i]];\\n      else\\n        ans += roman[s[i]];\\n\\n    return ans + roman[s.back()];\\n  }\\n};\"), Document(metadata={'source': '/content/drive/MyDrive/01-mini hackathon/database.csv', 'row': 13}, page_content=': 13\\nQuestion: 14\\nAnswer: class Solution {\\n public:\\n  string longestCommonPrefix(vector<string>& strs) {\\n    if (strs.empty())\\n      return \"\";\\n\\n    for (int i = 0; i < strs[0].length(); ++i)\\n      for (int j = 1; j < strs.size(); ++j)\\n        if (i == strs[j].length() || strs[j][i] != strs[0][i])\\n          return strs[0].substr(0, i);\\n\\n    return strs[0];\\n  }\\n};'), Document(metadata={'source': '/content/drive/MyDrive/01-mini hackathon/database.csv', 'row': 14}, page_content=': 14\\nQuestion: 15\\nAnswer: class Solution {\\n public:\\n  vector<vector<int>> threeSum(vector<int>& nums) {\\n    if (nums.size() < 3)\\n      return {};\\n\\n    vector<vector<int>> ans;\\n\\n    sort(begin(nums), end(nums));\\n\\n    for (int i = 0; i + 2 < nums.size(); ++i) {\\n      if (i > 0 && nums[i] == nums[i - 1])\\n        continue;\\n      // Choose nums[i] as the first num in the triplet,\\n      // and search the remaining nums in [i + 1, n - 1]\\n      int l = i + 1;\\n      int r = nums.size() - 1;\\n      while (l < r) {\\n        const int sum = nums[i] + nums[l] + nums[r];\\n        if (sum == 0) {\\n          ans.push_back({nums[i], nums[l++], nums[r--]});\\n          while (l < r && nums[l] == nums[l - 1])\\n            ++l;\\n          while (l < r && nums[r] == nums[r + 1])\\n            --r;\\n        } else if (sum < 0) {\\n          ++l;\\n        } else {\\n          --r;\\n        }\\n      }\\n    }\\n\\n    return ans;\\n  }\\n};'), Document(metadata={'source': '/content/drive/MyDrive/01-mini hackathon/database.csv', 'row': 15}, page_content=': 15\\nQuestion: 16\\nAnswer: class Solution {\\n public:\\n  int threeSumClosest(vector<int>& nums, int target) {\\n    int ans = nums[0] + nums[1] + nums[2];\\n\\n    sort(begin(nums), end(nums));\\n\\n    for (int i = 0; i + 2 < nums.size(); ++i) {\\n      if (i > 0 && nums[i] == nums[i - 1])\\n        continue;\\n      // Choose nums[i] as the first num in the triplet,\\n      // and search the remaining nums in [i + 1, n - 1]\\n      int l = i + 1;\\n      int r = nums.size() - 1;\\n      while (l < r) {\\n        const int sum = nums[i] + nums[l] + nums[r];\\n        if (sum == target)\\n          return sum;\\n        if (abs(sum - target) < abs(ans - target))\\n          ans = sum;\\n        if (sum < target)\\n          ++l;\\n        else\\n          --r;\\n      }\\n    }\\n\\n    return ans;\\n  }\\n};'), Document(metadata={'source': '/content/drive/MyDrive/01-mini hackathon/database.csv', 'row': 16}, page_content=': 16\\nQuestion: 17\\nAnswer: class Solution {\\n public:\\n  vector<string> letterCombinations(string digits) {\\n    if (digits.empty())\\n      return {};\\n\\n    vector<string> ans;\\n\\n    dfs(digits, 0, \"\", ans);\\n    return ans;\\n  }\\n\\n private:\\n  const vector<string> digitToLetters{\"\",    \"\",    \"abc\",  \"def\", \"ghi\",\\n                                      \"jkl\", \"mno\", \"pqrs\", \"tuv\", \"wxyz\"};\\n\\n  void dfs(const string& digits, int i, string&& path, vector<string>& ans) {\\n    if (i == digits.length()) {\\n      ans.push_back(path);\\n      return;\\n    }\\n\\n    for (const char letter : digitToLetters[digits[i] - \\'0\\']) {\\n      path.push_back(letter);\\n      dfs(digits, i + 1, move(path), ans);\\n      path.pop_back();\\n    }\\n  }\\n};'), Document(metadata={'source': '/content/drive/MyDrive/01-mini hackathon/database.csv', 'row': 17}, page_content=': 17\\nQuestion: 18\\nAnswer: class Solution {\\n public:\\n  vector<vector<int>> fourSum(vector<int>& nums, int target) {\\n    vector<vector<int>> ans;\\n    vector<int> path;\\n    sort(begin(nums), end(nums));\\n    nSum(nums, 4, target, 0, nums.size() - 1, path, ans);\\n    return ans;\\n  }\\n\\n private:\\n  // In [l, r], find n numbers add up to the target\\n  void nSum(const vector<int>& nums, long n, long target, int l, int r,\\n            vector<int>& path, vector<vector<int>>& ans) {\\n    if (r - l + 1 < n || target < nums[l] * n || target > nums[r] * n)\\n      return;\\n    if (n == 2) {\\n      // Similar to the sub procedure in 15. 3Sum\\n      while (l < r) {\\n        const int sum = nums[l] + nums[r];\\n        if (sum == target) {\\n          path.push_back(nums[l]);\\n          path.push_back(nums[r]);\\n          ans.push_back(path);\\n          path.pop_back();\\n          path.pop_back();\\n          ++l;\\n          --r;\\n          while (l < r && nums[l] == nums[l - 1])\\n            ++l;\\n          while (l < r && nums[r] == nums[r + 1])\\n            --r;\\n        } else if (sum < target) {\\n          ++l;\\n        } else {\\n          --r;\\n        }\\n      }\\n      return;\\n    }\\n\\n    for (int i = l; i <= r; ++i) {\\n      if (i > l && nums[i] == nums[i - 1])\\n        continue;\\n      path.push_back(nums[i]);\\n      nSum(nums, n - 1, target - nums[i], i + 1, r, path, ans);\\n      path.pop_back();\\n    }\\n  }\\n};'), Document(metadata={'source': '/content/drive/MyDrive/01-mini hackathon/database.csv', 'row': 18}, page_content=': 18\\nQuestion: 19\\nAnswer: class Solution {\\n public:\\n  ListNode* removeNthFromEnd(ListNode* head, int n) {\\n    ListNode* slow = head;\\n    ListNode* fast = head;\\n\\n    while (n--)\\n      fast = fast->next;\\n    if (fast == nullptr)\\n      return head->next;\\n\\n    while (fast->next) {\\n      slow = slow->next;\\n      fast = fast->next;\\n    }\\n    slow->next = slow->next->next;\\n\\n    return head;\\n  }\\n};'), Document(metadata={'source': '/content/drive/MyDrive/01-mini hackathon/database.csv', 'row': 19}, page_content=\": 19\\nQuestion: 20\\nAnswer: class Solution {\\n public:\\n  bool isValid(string s) {\\n    stack<char> stack;\\n\\n    for (const char c : s)\\n      if (c == '(')\\n        stack.push(')');\\n      else if (c == '{')\\n        stack.push('}');\\n      else if (c == '[')\\n        stack.push(']');\\n      else if (stack.empty() || pop(stack) != c)\\n        return false;\\n\\n    return stack.empty();\\n  }\\n\\n private:\\n  int pop(stack<char>& stack) {\\n    const int c = stack.top();\\n    stack.pop();\\n    return c;\\n  }\\n};\"), Document(metadata={'source': '/content/drive/MyDrive/01-mini hackathon/database.csv', 'row': 20}, page_content=': 20\\nQuestion: 21\\nAnswer: class Solution {\\n public:\\n  ListNode* mergeTwoLists(ListNode* list1, ListNode* list2) {\\n    if (!list1 || !list2)\\n      return list1 ? list1 : list2;\\n    if (list1->val > list2->val)\\n      swap(list1, list2);\\n    list1->next = mergeTwoLists(list1->next, list2);\\n    return list1;\\n  }\\n};'), Document(metadata={'source': '/content/drive/MyDrive/01-mini hackathon/database.csv', 'row': 21}, page_content=': 21\\nQuestion: 22\\nAnswer: class Solution {\\n public:\\n  vector<string> generateParenthesis(int n) {\\n    vector<string> ans;\\n    dfs(n, n, \"\", ans);\\n    return ans;\\n  }\\n\\n private:\\n  void dfs(int l, int r, string&& path, vector<string>& ans) {\\n    if (l == 0 && r == 0) {\\n      ans.push_back(path);\\n      return;\\n    }\\n\\n    if (l > 0) {\\n      path.push_back(\\'(\\');\\n      dfs(l - 1, r, move(path), ans);\\n      path.pop_back();\\n    }\\n    if (l < r) {\\n      path.push_back(\\')\\');\\n      dfs(l, r - 1, move(path), ans);\\n      path.pop_back();\\n    }\\n  }\\n};'), Document(metadata={'source': '/content/drive/MyDrive/01-mini hackathon/database.csv', 'row': 22}, page_content=': 22\\nQuestion: 23\\nAnswer: class Solution {\\n public:\\n  ListNode* mergeKLists(vector<ListNode*>& lists) {\\n    ListNode dummy(0);\\n    ListNode* curr = &dummy;\\n    auto compare = [](ListNode* a, ListNode* b) { return a->val > b->val; };\\n    priority_queue<ListNode*, vector<ListNode*>, decltype(compare)> minHeap(\\n        compare);\\n\\n    for (ListNode* list : lists)\\n      if (list != nullptr)\\n        minHeap.push(list);\\n\\n    while (!minHeap.empty()) {\\n      ListNode* minNode = minHeap.top();\\n      minHeap.pop();\\n      if (minNode->next)\\n        minHeap.push(minNode->next);\\n      curr->next = minNode;\\n      curr = curr->next;\\n    }\\n\\n    return dummy.next;\\n  }\\n};'), Document(metadata={'source': '/content/drive/MyDrive/01-mini hackathon/database.csv', 'row': 23}, page_content=': 23\\nQuestion: 24\\nAnswer: class Solution {\\n public:\\n  ListNode* swapPairs(ListNode* head) {\\n    const int length = getLength(head);\\n    ListNode dummy(0, head);\\n    ListNode* prev = &dummy;\\n    ListNode* curr = head;\\n\\n    for (int i = 0; i < length / 2; ++i) {\\n      ListNode* next = curr->next;\\n      curr->next = next->next;\\n      next->next = prev->next;\\n      prev->next = next;\\n      prev = curr;\\n      curr = curr->next;\\n    }\\n\\n    return dummy.next;\\n  }\\n\\n private:\\n  int getLength(ListNode* head) {\\n    int length = 0;\\n    for (ListNode* curr = head; curr; curr = curr->next)\\n      ++length;\\n    return length;\\n  }\\n};'), Document(metadata={'source': '/content/drive/MyDrive/01-mini hackathon/database.csv', 'row': 24}, page_content=': 24\\nQuestion: 25\\nAnswer: class Solution {\\n public:\\n  ListNode* reverseKGroup(ListNode* head, int k) {\\n    if (head == nullptr)\\n      return nullptr;\\n\\n    ListNode* tail = head;\\n\\n    for (int i = 0; i < k; ++i) {\\n      if (tail == nullptr)  // Less than k nodes, do nothing\\n        return head;\\n      tail = tail->next;\\n    }\\n\\n    ListNode* newHead = reverse(head, tail);\\n    head->next = reverseKGroup(tail, k);\\n    return newHead;\\n  }\\n\\n private:\\n  // Reverses [head, tail)\\n  ListNode* reverse(ListNode* head, ListNode* tail) {\\n    ListNode* prev = nullptr;\\n    ListNode* curr = head;\\n\\n    while (curr != tail) {\\n      ListNode* next = curr->next;\\n      curr->next = prev;\\n      prev = curr;\\n      curr = next;\\n    }\\n\\n    return prev;\\n  }\\n};'), Document(metadata={'source': '/content/drive/MyDrive/01-mini hackathon/database.csv', 'row': 25}, page_content=': 25\\nQuestion: 26\\nAnswer: class Solution {\\n public:\\n  int removeDuplicates(vector<int>& nums) {\\n    int i = 0;\\n\\n    for (const int num : nums)\\n      if (i < 1 || num > nums[i - 1])\\n        nums[i++] = num;\\n\\n    return i;\\n  }\\n};'), Document(metadata={'source': '/content/drive/MyDrive/01-mini hackathon/database.csv', 'row': 26}, page_content=': 26\\nQuestion: 27\\nAnswer: class Solution {\\n public:\\n  int removeElement(vector<int>& nums, int val) {\\n    int i = 0;\\n\\n    for (const int num : nums)\\n      if (num != val)\\n        nums[i++] = num;\\n\\n    return i;\\n  }\\n};'), Document(metadata={'source': '/content/drive/MyDrive/01-mini hackathon/database.csv', 'row': 27}, page_content=': 27\\nQuestion: 28\\nAnswer: class Solution {\\n public:\\n  int strStr(string haystack, string needle) {\\n    const int m = haystack.length();\\n    const int n = needle.length();\\n\\n    for (int i = 0; i < m - n + 1; i++)\\n      if (haystack.substr(i, n) == needle)\\n        return i;\\n\\n    return -1;\\n  }\\n};'), Document(metadata={'source': '/content/drive/MyDrive/01-mini hackathon/database.csv', 'row': 28}, page_content=': 28\\nQuestion: 29\\nAnswer: class Solution {\\n public:\\n  int divide(int dividend, int divisor) {\\n    // -2^{31} / -1 = 2^31 -> overflow so return 2^31 - 1\\n    if (dividend == INT_MIN && divisor == -1)\\n      return INT_MAX;\\n\\n    const int sign = dividend > 0 ^ divisor > 0 ? -1 : 1;\\n    long ans = 0;\\n    long dvd = labs(dividend);\\n    long dvs = labs(divisor);\\n\\n    while (dvd >= dvs) {\\n      long k = 1;\\n      while (k * 2 * dvs <= dvd)\\n        k *= 2;\\n      dvd -= k * dvs;\\n      ans += k;\\n    }\\n\\n    return sign * ans;\\n  }\\n};'), Document(metadata={'source': '/content/drive/MyDrive/01-mini hackathon/database.csv', 'row': 29}, page_content=': 29\\nQuestion: 30\\nAnswer: class Solution {\\n public:\\n  vector<int> findSubstring(string s, vector<string>& words) {\\n    if (s.empty() || words.empty())\\n      return {};\\n\\n    const int k = words.size();\\n    const int n = words[0].length();\\n    vector<int> ans;\\n    unordered_map<string, int> count;\\n\\n    for (const string& word : words)\\n      ++count[word];\\n\\n    for (int i = 0; i < s.length() - k * n + 1; ++i) {\\n      unordered_map<string, int> seen;\\n      int j;\\n      for (j = 0; j < k; ++j) {\\n        const string& word = s.substr(i + j * n, n);\\n        if (++seen[word] > count[word])\\n          break;\\n      }\\n      if (j == k)\\n        ans.push_back(i);\\n    }\\n\\n    return ans;\\n  }\\n};'), Document(metadata={'source': '/content/drive/MyDrive/01-mini hackathon/database.csv', 'row': 30}, page_content=': 30\\nQuestion: 31\\nAnswer: class Solution {\\n public:\\n  void nextPermutation(vector<int>& nums) {\\n    const int n = nums.size();\\n\\n    // From back to front, find the first num < nums[i + 1]\\n    int i;\\n    for (i = n - 2; i >= 0; --i)\\n      if (nums[i] < nums[i + 1])\\n        break;\\n\\n    // From back to front, find the first num > nums[i], swap it with nums[i]\\n    if (i >= 0)\\n      for (int j = n - 1; j > i; --j)\\n        if (nums[j] > nums[i]) {\\n          swap(nums[i], nums[j]);\\n          break;\\n        }\\n\\n    // Reverse nums[i + 1..n - 1]\\n    reverse(nums, i + 1, n - 1);\\n  }\\n\\n private:\\n  void reverse(vector<int>& nums, int l, int r) {\\n    while (l < r)\\n      swap(nums[l++], nums[r--]);\\n  }\\n};'), Document(metadata={'source': '/content/drive/MyDrive/01-mini hackathon/database.csv', 'row': 31}, page_content=': 31\\nQuestion: 32\\nAnswer: class Solution {\\n public:\\n  int longestValidParentheses(string s) {\\n    const string s2 = \")\" + s;\\n    // dp[i] := Length of longest valid parentheses substring of s2[1..i]\\n    vector<int> dp(s2.length());\\n\\n    for (int i = 1; i < s2.length(); ++i)\\n      if (s2[i] == \\')\\' && s2[i - dp[i - 1] - 1] == \\'(\\')\\n        dp[i] = dp[i - 1] + dp[i - dp[i - 1] - 2] + 2;\\n\\n    return *max_element(begin(dp), end(dp));\\n  }\\n};'), Document(metadata={'source': '/content/drive/MyDrive/01-mini hackathon/database.csv', 'row': 32}, page_content=': 32\\nQuestion: 33\\nAnswer: class Solution {\\n public:\\n  int search(vector<int>& nums, int target) {\\n    int l = 0;\\n    int r = nums.size() - 1;\\n\\n    while (l <= r) {\\n      const int m = (l + r) / 2;\\n      if (nums[m] == target)\\n        return m;\\n      if (nums[l] <= nums[m]) {  // nums[l..m] are sorted\\n        if (nums[l] <= target && target < nums[m])\\n          r = m - 1;\\n        else\\n          l = m + 1;\\n      } else {  // nums[m..n - 1] are sorted\\n        if (nums[m] < target && target <= nums[r])\\n          l = m + 1;\\n        else\\n          r = m - 1;\\n      }\\n    }\\n\\n    return -1;\\n  }\\n};'), Document(metadata={'source': '/content/drive/MyDrive/01-mini hackathon/database.csv', 'row': 33}, page_content=': 33\\nQuestion: 34\\nAnswer: class Solution {\\n public:\\n  vector<int> searchRange(vector<int>& nums, int target) {\\n    const int l = lower_bound(begin(nums), end(nums), target) - begin(nums);\\n    if (l == nums.size() || nums[l] != target)\\n      return {-1, -1};\\n    const int r = upper_bound(begin(nums), end(nums), target) - begin(nums) - 1;\\n    return {l, r};\\n  }\\n};'), Document(metadata={'source': '/content/drive/MyDrive/01-mini hackathon/database.csv', 'row': 34}, page_content=': 34\\nQuestion: 35\\nAnswer: class Solution {\\n public:\\n  int searchInsert(vector<int>& nums, int target) {\\n    int l = 0;\\n    int r = nums.size();\\n\\n    while (l < r) {\\n      const int m = (l + r) / 2;\\n      if (nums[m] == target)\\n        return m;\\n      if (nums[m] < target)\\n        l = m + 1;\\n      else\\n        r = m;\\n    }\\n\\n    return l;\\n  }\\n};'), Document(metadata={'source': '/content/drive/MyDrive/01-mini hackathon/database.csv', 'row': 35}, page_content=': 35\\nQuestion: 36\\nAnswer: class Solution {\\n public:\\n  bool isValidSudoku(vector<vector<char>>& board) {\\n    unordered_set<string> seen;\\n\\n    for (int i = 0; i < 9; ++i)\\n      for (int j = 0; j < 9; ++j) {\\n        if (board[i][j] == \\'.\\')\\n          continue;\\n        const string c(1, board[i][j]);\\n        if (!seen.insert(c + \"@row\" + to_string(i)).second ||\\n            !seen.insert(c + \"@col\" + to_string(j)).second ||\\n            !seen.insert(c + \"@box\" + to_string(i / 3) + to_string(j / 3))\\n                 .second)\\n          return false;\\n      }\\n\\n    return true;\\n  }\\n};'), Document(metadata={'source': '/content/drive/MyDrive/01-mini hackathon/database.csv', 'row': 36}, page_content=\": 36\\nQuestion: 37\\nAnswer: class Solution {\\n public:\\n  void solveSudoku(vector<vector<char>>& board) {\\n    solve(board, 0);\\n  }\\n\\n private:\\n  bool solve(vector<vector<char>>& board, int s) {\\n    if (s == 81)\\n      return true;\\n\\n    const int i = s / 9;\\n    const int j = s % 9;\\n\\n    if (board[i][j] != '.')\\n      return solve(board, s + 1);\\n\\n    for (char c = '1'; c <= '9'; ++c)\\n      if (isValid(board, i, j, c)) {\\n        board[i][j] = c;\\n        if (solve(board, s + 1))\\n          return true;\\n        board[i][j] = '.';\\n      }\\n\\n    return false;\\n  }\\n\\n  bool isValid(vector<vector<char>>& board, int row, int col, char c) {\\n    for (int i = 0; i < 9; ++i)\\n      if (board[i][col] == c || board[row][i] == c ||\\n          board[3 * (row / 3) + i / 3][3 * (col / 3) + i % 3] == c)\\n        return false;\\n    return true;\\n  }\\n};\"), Document(metadata={'source': '/content/drive/MyDrive/01-mini hackathon/database.csv', 'row': 37}, page_content=': 37\\nQuestion: 38\\nAnswer: class Solution {\\n public:\\n  string countAndSay(int n) {\\n    string ans = \"1\";\\n\\n    while (--n) {\\n      string next;\\n      for (int i = 0; i < ans.length(); ++i) {\\n        int count = 1;\\n        while (i + 1 < ans.length() && ans[i] == ans[i + 1]) {\\n          ++count;\\n          ++i;\\n        }\\n        next += to_string(count) + ans[i];\\n      }\\n      ans = move(next);\\n    }\\n\\n    return ans;\\n  }\\n};'), Document(metadata={'source': '/content/drive/MyDrive/01-mini hackathon/database.csv', 'row': 38}, page_content=': 38\\nQuestion: 39\\nAnswer: class Solution {\\n public:\\n  vector<vector<int>> combinationSum(vector<int>& candidates, int target) {\\n    vector<vector<int>> ans;\\n    sort(begin(candidates), end(candidates));\\n    dfs(candidates, 0, target, {}, ans);\\n    return ans;\\n  }\\n\\n private:\\n  void dfs(const vector<int>& A, int s, int target, vector<int>&& path,\\n           vector<vector<int>>& ans) {\\n    if (target < 0)\\n      return;\\n    if (target == 0) {\\n      ans.push_back(path);\\n      return;\\n    }\\n\\n    for (int i = s; i < A.size(); ++i) {\\n      path.push_back(A[i]);\\n      dfs(A, i, target - A[i], move(path), ans);\\n      path.pop_back();\\n    }\\n  }\\n};'), Document(metadata={'source': '/content/drive/MyDrive/01-mini hackathon/database.csv', 'row': 39}, page_content=': 39\\nQuestion: 40\\nAnswer: class Solution {\\n public:\\n  vector<vector<int>> combinationSum2(vector<int>& candidates, int target) {\\n    vector<vector<int>> ans;\\n    sort(begin(candidates), end(candidates));\\n    dfs(candidates, 0, target, {}, ans);\\n    return ans;\\n  }\\n\\n private:\\n  void dfs(const vector<int>& A, int s, int target, vector<int>&& path,\\n           vector<vector<int>>& ans) {\\n    if (target < 0)\\n      return;\\n    if (target == 0) {\\n      ans.push_back(path);\\n      return;\\n    }\\n\\n    for (int i = s; i < A.size(); ++i) {\\n      if (i > s && A[i] == A[i - 1])\\n        continue;\\n      path.push_back(A[i]);\\n      dfs(A, i + 1, target - A[i], move(path), ans);\\n      path.pop_back();\\n    }\\n  }\\n};'), Document(metadata={'source': '/content/drive/MyDrive/01-mini hackathon/database.csv', 'row': 40}, page_content=': 40\\nQuestion: 41\\nAnswer: class Solution {\\n public:\\n  int firstMissingPositive(vector<int>& nums) {\\n    const int n = nums.size();\\n\\n    // Correct slot:\\n    // nums[i] = i + 1\\n    // nums[i] - 1 = i\\n    // nums[nums[i] - 1] = nums[i]\\n    for (int i = 0; i < n; ++i)\\n      while (nums[i] > 0 && nums[i] <= n && nums[i] != nums[nums[i] - 1])\\n        swap(nums[i], nums[nums[i] - 1]);\\n\\n    for (int i = 0; i < n; ++i)\\n      if (nums[i] != i + 1)\\n        return i + 1;\\n\\n    return n + 1;\\n  }\\n};'), Document(metadata={'source': '/content/drive/MyDrive/01-mini hackathon/database.csv', 'row': 41}, page_content=': 41\\nQuestion: 42\\nAnswer: class Solution {\\n public:\\n  int trap(vector<int>& height) {\\n    const int n = height.size();\\n    int ans = 0;\\n    vector<int> l(n);  // l[i] := max(height[0..i])\\n    vector<int> r(n);  // r[i] := max(height[i..n))\\n\\n    for (int i = 0; i < n; ++i)\\n      l[i] = i == 0 ? height[i] : max(height[i], l[i - 1]);\\n\\n    for (int i = n - 1; i >= 0; --i)\\n      r[i] = i == n - 1 ? height[i] : max(height[i], r[i + 1]);\\n\\n    for (int i = 0; i < n; ++i)\\n      ans += min(l[i], r[i]) - height[i];\\n\\n    return ans;\\n  }\\n};'), Document(metadata={'source': '/content/drive/MyDrive/01-mini hackathon/database.csv', 'row': 42}, page_content=': 42\\nQuestion: 43\\nAnswer: class Solution {\\n public:\\n  string multiply(string num1, string num2) {\\n    string s(num1.length() + num2.length(), \\'0\\');\\n\\n    for (int i = num1.length() - 1; i >= 0; --i)\\n      for (int j = num2.length() - 1; j >= 0; --j) {\\n        const int mult = (num1[i] - \\'0\\') * (num2[j] - \\'0\\');\\n        const int sum = mult + (s[i + j + 1] - \\'0\\');\\n        s[i + j] += sum / 10;\\n        s[i + j + 1] = \\'0\\' + sum % 10;\\n      }\\n\\n    const int i = s.find_first_not_of(\\'0\\');\\n    return i == -1 ? \"0\" : s.substr(i);\\n  }\\n};'), Document(metadata={'source': '/content/drive/MyDrive/01-mini hackathon/database.csv', 'row': 43}, page_content=\": 43\\nQuestion: 44\\nAnswer: class Solution {\\n public:\\n  bool isMatch(string s, string p) {\\n    const int m = s.length();\\n    const int n = p.length();\\n    // dp[i][j] := true if s[0..i) matches p[0..j)\\n    vector<vector<bool>> dp(m + 1, vector<bool>(n + 1));\\n    dp[0][0] = true;\\n\\n    auto isMatch = [&](int i, int j) -> bool {\\n      return j >= 0 && p[j] == '?' || s[i] == p[j];\\n    };\\n\\n    for (int j = 0; j < p.length(); ++j)\\n      if (p[j] == '*')\\n        dp[0][j + 1] = dp[0][j];\\n\\n    for (int i = 0; i < m; ++i)\\n      for (int j = 0; j < n; ++j)\\n        if (p[j] == '*') {\\n          const bool matchEmpty = dp[i + 1][j];\\n          const bool matchSome = dp[i][j + 1];\\n          dp[i + 1][j + 1] = matchEmpty || matchSome;\\n        } else if (isMatch(i, j)) {\\n          dp[i + 1][j + 1] = dp[i][j];\\n        }\\n\\n    return dp[m][n];\\n  }\\n};\"), Document(metadata={'source': '/content/drive/MyDrive/01-mini hackathon/database.csv', 'row': 44}, page_content=': 44\\nQuestion: 45\\nAnswer: class Solution {\\n public:\\n  int jump(vector<int>& nums) {\\n    int ans = 0;\\n    int end = 0;\\n    int farthest = 0;\\n\\n    // Implicit BFS\\n    for (int i = 0; i < nums.size() - 1; ++i) {\\n      farthest = max(farthest, i + nums[i]);\\n      if (farthest >= nums.size() - 1) {\\n        ++ans;\\n        break;\\n      }\\n      if (i == end) {    // Visited all the items on the current level\\n        ++ans;           // Increment the level\\n        end = farthest;  // Make the queue size for the next level\\n      }\\n    }\\n\\n    return ans;\\n  }\\n};'), Document(metadata={'source': '/content/drive/MyDrive/01-mini hackathon/database.csv', 'row': 45}, page_content=': 45\\nQuestion: 46\\nAnswer: class Solution {\\n public:\\n  vector<vector<int>> permute(vector<int>& nums) {\\n    vector<vector<int>> ans;\\n\\n    dfs(nums, vector<bool>(nums.size()), {}, ans);\\n    return ans;\\n  }\\n\\n private:\\n  void dfs(const vector<int>& nums, vector<bool>&& used, vector<int>&& path,\\n           vector<vector<int>>& ans) {\\n    if (path.size() == nums.size()) {\\n      ans.push_back(path);\\n      return;\\n    }\\n\\n    for (int i = 0; i < nums.size(); ++i) {\\n      if (used[i])\\n        continue;\\n      used[i] = true;\\n      path.push_back(nums[i]);\\n      dfs(nums, move(used), move(path), ans);\\n      path.pop_back();\\n      used[i] = false;\\n    }\\n  }\\n};'), Document(metadata={'source': '/content/drive/MyDrive/01-mini hackathon/database.csv', 'row': 46}, page_content=': 46\\nQuestion: 47\\nAnswer: class Solution {\\n public:\\n  vector<vector<int>> permuteUnique(vector<int>& nums) {\\n    vector<vector<int>> ans;\\n    sort(begin(nums), end(nums));\\n    dfs(nums, vector<bool>(nums.size()), {}, ans);\\n    return ans;\\n  }\\n\\n private:\\n  void dfs(const vector<int>& nums, vector<bool>&& used, vector<int>&& path,\\n           vector<vector<int>>& ans) {\\n    if (path.size() == nums.size()) {\\n      ans.push_back(path);\\n      return;\\n    }\\n\\n    for (int i = 0; i < nums.size(); ++i) {\\n      if (used[i])\\n        continue;\\n      if (i > 0 && nums[i] == nums[i - 1] && !used[i - 1])\\n        continue;\\n      used[i] = true;\\n      path.push_back(nums[i]);\\n      dfs(nums, move(used), move(path), ans);\\n      path.pop_back();\\n      used[i] = false;\\n    }\\n  }\\n};'), Document(metadata={'source': '/content/drive/MyDrive/01-mini hackathon/database.csv', 'row': 47}, page_content=': 47\\nQuestion: 48\\nAnswer: class Solution {\\n public:\\n  void rotate(vector<vector<int>>& matrix) {\\n    reverse(begin(matrix), end(matrix));\\n    for (int i = 0; i < matrix.size(); ++i)\\n      for (int j = i + 1; j < matrix.size(); ++j)\\n        swap(matrix[i][j], matrix[j][i]);\\n  }\\n};'), Document(metadata={'source': '/content/drive/MyDrive/01-mini hackathon/database.csv', 'row': 48}, page_content=': 48\\nQuestion: 49\\nAnswer: class Solution {\\n public:\\n  vector<vector<string>> groupAnagrams(vector<string>& strs) {\\n    vector<vector<string>> ans;\\n    unordered_map<string, vector<string>> keyToAnagrams;\\n\\n    for (const string& str : strs) {\\n      string key = str;\\n      sort(begin(key), end(key));\\n      keyToAnagrams[key].push_back(str);\\n    }\\n\\n    for (const auto& [_, anagrams] : keyToAnagrams)\\n      ans.push_back(anagrams);\\n\\n    return ans;\\n  }\\n};'), Document(metadata={'source': '/content/drive/MyDrive/01-mini hackathon/database.csv', 'row': 49}, page_content=': 49\\nQuestion: 50\\nAnswer: class Solution {\\n public:\\n  double myPow(double x, long n) {\\n    if (n == 0)\\n      return 1;\\n    if (n < 0)\\n      return 1 / myPow(x, -n);\\n    if (n & 1)\\n      return x * myPow(x, n - 1);\\n    return myPow(x * x, n / 2);\\n  }\\n};')]\n"
          ]
        }
      ]
    },
    {
      "cell_type": "code",
      "source": [
        "#Splitting the documents\n",
        "\n",
        "text_splitter = RecursiveCharacterTextSplitter(chunk_size = 5000,\n",
        "                                               chunk_overlap = 1000)\n",
        "\n",
        "documents_chunks = text_splitter.split_documents(docs)\n"
      ],
      "metadata": {
        "id": "LeEa8dZPm9YI"
      },
      "execution_count": null,
      "outputs": []
    },
    {
      "cell_type": "code",
      "source": [
        "vector_db = Chroma.from_documents(documents = documents_chunks,\n",
        "                                  embedding = HuggingFaceEmbeddings(model_name = \"sentence-transformers/all-MiniLM-L6-v2\"))"
      ],
      "metadata": {
        "colab": {
          "base_uri": "https://localhost:8080/"
        },
        "id": "Dp-uZguNnSAR",
        "outputId": "37eb6e16-ce02-4a8d-b165-594aa227b916"
      },
      "execution_count": null,
      "outputs": [
        {
          "output_type": "stream",
          "name": "stderr",
          "text": [
            "/usr/local/lib/python3.10/dist-packages/transformers/tokenization_utils_base.py:1601: FutureWarning: `clean_up_tokenization_spaces` was not set. It will be set to `True` by default. This behavior will be depracted in transformers v4.45, and will be then set to `False` by default. For more details check this issue: https://github.com/huggingface/transformers/issues/31884\n",
            "  warnings.warn(\n"
          ]
        }
      ]
    },
    {
      "cell_type": "code",
      "source": [
        "client = OpenAI(\n",
        "    api_key=\"Your_API_KEY\",\n",
        "    base_url=\"https://api.aimlapi.com/v1\",\n",
        ")\n",
        "\n",
        "chat_history = []\n",
        "\n",
        "while True:\n",
        "    user_input = input(\"You: \")\n",
        "\n",
        "    # Retrieve the most relevant document from the vector database\n",
        "    result = vector_db.similarity_search(user_input, k=1)\n",
        "    retrieved_content = result[0].page_content if result else \"No relevant document found.\"\n",
        "\n",
        "    # Append the user input and retrieved document to the chat history\n",
        "    chat_history.append({\"role\": \"user\", \"content\": user_input})\n",
        "    # chat_history.append({\"role\": \"assistant\", \"content\": retrieved_content})\n",
        "    messages = chat_history.copy()\n",
        "    # Sending the conversation history to OpenAI API\n",
        "    response = client.chat.completions.create(\n",
        "        model=\"o1-preview\",\n",
        "        messages=messages\n",
        "        ,max_tokens = 50000\n",
        "    )\n",
        "\n",
        "    # Get and print the assistant's reply\n",
        "    assistant_reply = response.choices[0].message.content\n",
        "    print(f\"Assistant: {assistant_reply}\")\n",
        "\n",
        "    # Append assistant's reply to the chat history for context in the next loop\n",
        "    chat_history.append({\"role\": \"assistant\", \"content\": assistant_reply})\n",
        "\n",
        "\n",
        "\n",
        "# Given an array of integers nums and an integer target, return indices of the two numbers such that they add up to target.\n",
        "\n",
        "# You may assume that each input would have exactly one solution, and you may not use the same element twice.\n",
        "\n",
        "# You can return the answer in any order."
      ],
      "metadata": {
        "id": "fKROyCOcbr4-",
        "colab": {
          "base_uri": "https://localhost:8080/",
          "height": 1000
        },
        "outputId": "dc332895-2316-464e-b25c-7be978f166a8"
      },
      "execution_count": null,
      "outputs": [
        {
          "output_type": "stream",
          "name": "stdout",
          "text": [
            "You: A positive integer is an  N N-subtractorization if it is a prime number that can be expressed as the difference of two primes that are both at most  N N. For example, the complete set of  5 5-subtractorizations is  { 2 , 3 } {2,3} because  5 − 3 = 2 5−3=2 and  5 − 2 = 3 5−2=3. For a given  N N, how many  N N-subtractorizations are there?\n",
            "Assistant: To solve this problem, we need to understand the definition of an \"**NN-subtractorization**.\" Given **N**, the **N-subtractorizations** are the set of primes **p** such that both **p** and **N - p** are primes less than or equal to **N**.\n",
            "\n",
            "**Understanding the Definition:**\n",
            "\n",
            "Given the example in the question for **N = 5**:\n",
            "- The primes less than or equal to 5 are **2, 3, 5**.\n",
            "- Computing **N - p** for each prime:\n",
            "  - **5 - 2 = 3**, which is prime and ≤ 5.\n",
            "  - **5 - 3 = 2**, which is prime and ≤ 5.\n",
            "  - **5 - 5 = 0**, which is not prime.\n",
            "- The primes **2** and **3** satisfy the condition, so the **5-subtractorizations** are **{2, 3}**.\n",
            "\n",
            "**Approach to the Problem:**\n",
            "\n",
            "We aim to count the number of primes **p ≤ N** such that **N - p** is also a prime ≤ **N**.\n",
            "\n",
            "**Algorithm:**\n",
            "\n",
            "1. **List all primes less than or equal to N.**\n",
            "2. **For each prime p in this list:**\n",
            "   - Check if **q = N - p** is a prime number.\n",
            "   - Ensure that **q ≤ N**.\n",
            "3. **Count all such primes p that satisfy the condition.**\n",
            "\n",
            "**Observation and Pattern:**\n",
            "\n",
            "- For **even N**, the number of **N-subtractorizations** often corresponds to the number of ways **N** can be expressed as the sum of two primes (known as Goldbach pairs).\n",
            "- For **odd N**:\n",
            "  - If **N** is an odd prime and **N - 2** is prime, there are **2 N-subtractorizations** (for **p = 2** and **p = N - 2**).\n",
            "  - If **N - 2** is not prime, there may be **0 N-subtractorizations**.\n",
            "  - For odd composite numbers, the number may vary based on the primes.\n",
            "\n",
            "**Example Calculations:**\n",
            "\n",
            "- **N = 10**\n",
            "  - Primes ≤ 10: 2, 3, 5, 7.\n",
            "  - **10 - 2 = 8**, not prime.\n",
            "  - **10 - 3 = 7**, prime. So, p = 3 is counted.\n",
            "  - **10 - 5 = 5**, prime. So, p = 5 is counted.\n",
            "  - **10 - 7 = 3**, prime. So, p = 7 is counted.\n",
            "  - **Number of 10-subtractorizations: 3 ({3, 5, 7})**\n",
            "\n",
            "**Final Answer:**\n",
            "\n",
            "To find the number of **N-subtractorizations** for a given **N**, count all primes **p ≤ N** such that **N - p** is also a prime ≤ **N**.\n",
            "\n",
            "**Answer:**\n",
            "An explicit answer: For a given N, the number of primes p ≤ N such that N – p is also prime ≤ N.\n",
            "You: Give me the code to solve this logic\n",
            "Assistant: Certainly! Below is Python code that computes the number of \\( N \\)-subtractorizations for a given positive integer \\( N \\). This script generates all primes up to \\( N \\), then counts the number of primes \\( p \\leq N \\) such that \\( N - p \\) is also a prime less than or equal to \\( N \\).\n",
            "\n",
            "```python\n",
            "def count_N_subtractorizations(N):\n",
            "    # Sieve of Eratosthenes to find all primes up to N\n",
            "    def sieve(n):\n",
            "        is_prime = [True] * (n + 1)\n",
            "        is_prime[0] = is_prime[1] = False\n",
            "        for i in range(2, int(n**0.5) + 1):\n",
            "            if is_prime[i]:\n",
            "                for multiple in range(i*i, n+1, i):\n",
            "                    is_prime[multiple] = False\n",
            "        return [i for i, prime in enumerate(is_prime) if prime]\n",
            "\n",
            "    # Generate all primes up to N\n",
            "    primes = sieve(N)\n",
            "    prime_set = set(primes)\n",
            "\n",
            "    # Count N-subtractorizations\n",
            "    N_subtractorizations = []\n",
            "    for p in primes:\n",
            "        q = N - p\n",
            "        if q in prime_set and q <= N:\n",
            "            N_subtractorizations.append(p)\n",
            "\n",
            "    # Output the result\n",
            "    print(f\"The number of {N}-subtractorizations is: {len(N_subtractorizations)}\")\n",
            "    print(f\"The N-subtractorizations are: {N_subtractorizations}\")\n",
            "\n",
            "# Example usage:\n",
            "N = int(input(\"Enter a positive integer N: \"))\n",
            "count_N_subtractorizations(N)\n",
            "```\n",
            "\n",
            "**How the Code Works:**\n",
            "\n",
            "1. **Sieve of Eratosthenes Function (`sieve(n)`):**\n",
            "   - Efficiently generates all prime numbers up to a given number \\( n \\).\n",
            "   - Creates a boolean list `is_prime` where `is_prime[i]` is `True` if `i` is a prime, else `False`.\n",
            "\n",
            "2. **Generating Primes Up to \\( N \\):**\n",
            "   - Calls the `sieve(N)` function to obtain a list of all primes less than or equal to \\( N \\).\n",
            "   - Converts the list of primes to a set `prime_set` for efficient lookup.\n",
            "\n",
            "3. **Counting \\( N \\)-Subtractorizations:**\n",
            "   - Iterates over each prime \\( p \\) in the list of primes.\n",
            "   - Computes \\( q = N - p \\).\n",
            "   - Checks if \\( q \\) is also a prime (by checking membership in `prime_set`) and \\( q \\leq N \\).\n",
            "   - If both conditions are met, adds \\( p \\) to the list `N_subtractorizations`.\n",
            "\n",
            "4. **Output:**\n",
            "   - Prints the total count of \\( N \\)-subtractorizations.\n",
            "   - Prints the list of primes that are \\( N \\)-subtractorizations.\n",
            "\n",
            "**Example Runs:**\n",
            "\n",
            "*For \\( N = 5 \\):*\n",
            "```\n",
            "Enter a positive integer N: 5\n",
            "The number of 5-subtractorizations is: 2\n",
            "The N-subtractorizations are: [2, 3]\n",
            "```\n",
            "\n",
            "*For \\( N = 10 \\):*\n",
            "```\n",
            "Enter a positive integer N: 10\n",
            "The number of 10-subtractorizations is: 3\n",
            "The N-subtractorizations are: [3, 5, 7]\n",
            "```\n",
            "\n",
            "*For \\( N = 20 \\):*\n",
            "```\n",
            "Enter a positive integer N: 20\n",
            "The number of 20-subtractorizations is: 4\n",
            "The N-subtractorizations are: [3, 7, 13, 17]\n",
            "```\n",
            "\n",
            "**Notes:**\n",
            "\n",
            "- This script uses the efficient Sieve of Eratosthenes algorithm to generate primes, making it suitable for moderately large values of \\( N \\).\n",
            "- The use of a set for prime lookup (`prime_set`) ensures that checking if \\( N - p \\) is prime is done in constant time.\n",
            "- The script not only counts but also outputs the \\( N \\)-subtractorizations, providing more insight into the result.\n",
            "\n",
            "**Feel free to run the code with different values of \\( N \\) to explore the \\( N \\)-subtractorizations!**\n"
          ]
        },
        {
          "output_type": "error",
          "ename": "KeyboardInterrupt",
          "evalue": "Interrupted by user",
          "traceback": [
            "\u001b[0;31m---------------------------------------------------------------------------\u001b[0m",
            "\u001b[0;31mKeyboardInterrupt\u001b[0m                         Traceback (most recent call last)",
            "\u001b[0;32m<ipython-input-29-1bf01a0cc759>\u001b[0m in \u001b[0;36m<cell line: 8>\u001b[0;34m()\u001b[0m\n\u001b[1;32m      7\u001b[0m \u001b[0;34m\u001b[0m\u001b[0m\n\u001b[1;32m      8\u001b[0m \u001b[0;32mwhile\u001b[0m \u001b[0;32mTrue\u001b[0m\u001b[0;34m:\u001b[0m\u001b[0;34m\u001b[0m\u001b[0;34m\u001b[0m\u001b[0m\n\u001b[0;32m----> 9\u001b[0;31m     \u001b[0muser_input\u001b[0m \u001b[0;34m=\u001b[0m \u001b[0minput\u001b[0m\u001b[0;34m(\u001b[0m\u001b[0;34m\"You: \"\u001b[0m\u001b[0;34m)\u001b[0m\u001b[0;34m\u001b[0m\u001b[0;34m\u001b[0m\u001b[0m\n\u001b[0m\u001b[1;32m     10\u001b[0m \u001b[0;34m\u001b[0m\u001b[0m\n\u001b[1;32m     11\u001b[0m     \u001b[0;31m# Retrieve the most relevant document from the vector database\u001b[0m\u001b[0;34m\u001b[0m\u001b[0;34m\u001b[0m\u001b[0m\n",
            "\u001b[0;32m/usr/local/lib/python3.10/dist-packages/ipykernel/kernelbase.py\u001b[0m in \u001b[0;36mraw_input\u001b[0;34m(self, prompt)\u001b[0m\n\u001b[1;32m    849\u001b[0m                 \u001b[0;34m\"raw_input was called, but this frontend does not support input requests.\"\u001b[0m\u001b[0;34m\u001b[0m\u001b[0;34m\u001b[0m\u001b[0m\n\u001b[1;32m    850\u001b[0m             )\n\u001b[0;32m--> 851\u001b[0;31m         return self._input_request(str(prompt),\n\u001b[0m\u001b[1;32m    852\u001b[0m             \u001b[0mself\u001b[0m\u001b[0;34m.\u001b[0m\u001b[0m_parent_ident\u001b[0m\u001b[0;34m,\u001b[0m\u001b[0;34m\u001b[0m\u001b[0;34m\u001b[0m\u001b[0m\n\u001b[1;32m    853\u001b[0m             \u001b[0mself\u001b[0m\u001b[0;34m.\u001b[0m\u001b[0m_parent_header\u001b[0m\u001b[0;34m,\u001b[0m\u001b[0;34m\u001b[0m\u001b[0;34m\u001b[0m\u001b[0m\n",
            "\u001b[0;32m/usr/local/lib/python3.10/dist-packages/ipykernel/kernelbase.py\u001b[0m in \u001b[0;36m_input_request\u001b[0;34m(self, prompt, ident, parent, password)\u001b[0m\n\u001b[1;32m    893\u001b[0m             \u001b[0;32mexcept\u001b[0m \u001b[0mKeyboardInterrupt\u001b[0m\u001b[0;34m:\u001b[0m\u001b[0;34m\u001b[0m\u001b[0;34m\u001b[0m\u001b[0m\n\u001b[1;32m    894\u001b[0m                 \u001b[0;31m# re-raise KeyboardInterrupt, to truncate traceback\u001b[0m\u001b[0;34m\u001b[0m\u001b[0;34m\u001b[0m\u001b[0m\n\u001b[0;32m--> 895\u001b[0;31m                 \u001b[0;32mraise\u001b[0m \u001b[0mKeyboardInterrupt\u001b[0m\u001b[0;34m(\u001b[0m\u001b[0;34m\"Interrupted by user\"\u001b[0m\u001b[0;34m)\u001b[0m \u001b[0;32mfrom\u001b[0m \u001b[0;32mNone\u001b[0m\u001b[0;34m\u001b[0m\u001b[0;34m\u001b[0m\u001b[0m\n\u001b[0m\u001b[1;32m    896\u001b[0m             \u001b[0;32mexcept\u001b[0m \u001b[0mException\u001b[0m \u001b[0;32mas\u001b[0m \u001b[0me\u001b[0m\u001b[0;34m:\u001b[0m\u001b[0;34m\u001b[0m\u001b[0;34m\u001b[0m\u001b[0m\n\u001b[1;32m    897\u001b[0m                 \u001b[0mself\u001b[0m\u001b[0;34m.\u001b[0m\u001b[0mlog\u001b[0m\u001b[0;34m.\u001b[0m\u001b[0mwarning\u001b[0m\u001b[0;34m(\u001b[0m\u001b[0;34m\"Invalid Message:\"\u001b[0m\u001b[0;34m,\u001b[0m \u001b[0mexc_info\u001b[0m\u001b[0;34m=\u001b[0m\u001b[0;32mTrue\u001b[0m\u001b[0;34m)\u001b[0m\u001b[0;34m\u001b[0m\u001b[0;34m\u001b[0m\u001b[0m\n",
            "\u001b[0;31mKeyboardInterrupt\u001b[0m: Interrupted by user"
          ]
        }
      ]
    },
    {
      "cell_type": "code",
      "source": [],
      "metadata": {
        "id": "s7dGzHIcmnCT"
      },
      "execution_count": null,
      "outputs": []
    }
  ]
}